{
 "cells": [
  {
   "cell_type": "markdown",
   "id": "a7d42be5",
   "metadata": {},
   "source": [
    "# This is my jupter notebook\n",
    "## Program to *print 1 to 10*\n",
    "* Bullet point 1\n",
    "* Bullet point 2\n",
    "\n",
    "1. Numbered point 1\n",
    "2. Numbered point 2\n",
    "\n"
   ]
  },
  {
   "cell_type": "code",
   "execution_count": 1,
   "id": "e550ade9",
   "metadata": {},
   "outputs": [
    {
     "name": "stdout",
     "output_type": "stream",
     "text": [
      "1 2 3 4 5 6 7 8 9 10\n"
     ]
    }
   ],
   "source": [
    "# Simple method to print numbers (No loop)\n",
    "print(1,2,3,4,5,6,7,8,9,10)\n"
   ]
  },
  {
   "cell_type": "code",
   "execution_count": 2,
   "id": "5eeb57b3",
   "metadata": {},
   "outputs": [
    {
     "name": "stdout",
     "output_type": "stream",
     "text": [
      "1\n",
      "2\n",
      "3\n",
      "4\n",
      "5\n",
      "6\n",
      "7\n",
      "8\n",
      "9\n",
      "10\n",
      "DONE\n"
     ]
    }
   ],
   "source": [
    "# Using a 'for loop' to print 1 to 10\n",
    "for i in range(1,11):\n",
    "    print(i)\n",
    "    \n",
    "print(\"DONE\")"
   ]
  },
  {
   "cell_type": "code",
   "execution_count": null,
   "id": "1446165b",
   "metadata": {},
   "outputs": [],
   "source": []
  }
 ],
 "metadata": {
  "kernelspec": {
   "display_name": "Python 3 (ipykernel)",
   "language": "python",
   "name": "python3"
  },
  "language_info": {
   "codemirror_mode": {
    "name": "ipython",
    "version": 3
   },
   "file_extension": ".py",
   "mimetype": "text/x-python",
   "name": "python",
   "nbconvert_exporter": "python",
   "pygments_lexer": "ipython3",
   "version": "3.8.8"
  }
 },
 "nbformat": 4,
 "nbformat_minor": 5
}
